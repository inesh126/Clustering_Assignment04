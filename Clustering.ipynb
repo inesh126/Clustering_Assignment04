{
  "nbformat": 4,
  "nbformat_minor": 0,
  "metadata": {
    "colab": {
      "provenance": []
    },
    "kernelspec": {
      "name": "python3",
      "display_name": "Python 3"
    },
    "language_info": {
      "name": "python"
    }
  },
  "cells": [
    {
      "cell_type": "code",
      "execution_count": 12,
      "metadata": {
        "id": "nTsiAmvALUBm"
      },
      "outputs": [],
      "source": [
        "## 1. Import Libraries\n",
        "\n",
        "import numpy as np\n",
        "import pandas as pd\n",
        "import matplotlib.pyplot as plt\n",
        "import seaborn as sns\n",
        "from sklearn.datasets import load_diabetes\n",
        "from sklearn import datasets\n",
        "from sklearn.preprocessing import MinMaxScaler, StandardScaler\n",
        "from sklearn.decomposition import PCA\n",
        "from sklearn.cluster import KMeans, MeanShift, estimate_bandwidth, AgglomerativeClustering\n",
        "from sklearn.metrics import silhouette_score, calinski_harabasz_score, davies_bouldin_score\n",
        "import warnings\n",
        "warnings.filterwarnings('ignore')"
      ]
    },
    {
      "cell_type": "code",
      "source": [
        "## 2. Load Dataset\n",
        "\n",
        "data = load_diabetes()\n",
        "X = pd.DataFrame(data.data, columns=data.feature_names)\n",
        "y = data.target"
      ],
      "metadata": {
        "id": "rIqLDFDRQIrh"
      },
      "execution_count": 13,
      "outputs": []
    },
    {
      "cell_type": "code",
      "source": [
        "## 3. Preprocessing Functions\n",
        "\n",
        "def normalize(X):\n",
        "    return MinMaxScaler().fit_transform(X)\n",
        "\n",
        "def standardize(X):\n",
        "    return StandardScaler().fit_transform(X)\n",
        "\n",
        "def apply_pca(X, n_components=2):\n",
        "    return PCA(n_components=n_components).fit_transform(X)\n",
        "\n",
        "def transform_and_normalize(X):\n",
        "    return normalize(standardize(X))\n",
        "\n",
        "def transform_norm_pca(X):\n",
        "    return apply_pca(transform_and_normalize(X))"
      ],
      "metadata": {
        "id": "qsjn9eHLPWOn"
      },
      "execution_count": 14,
      "outputs": []
    },
    {
      "cell_type": "code",
      "source": [
        "## 4. Clustering Evaluation\n",
        "\n",
        "def evaluate_clustering(X, labels):\n",
        "    return {\n",
        "        'Silhouette': round(silhouette_score(X, labels), 2),\n",
        "        'Calinski-Harabasz': int(calinski_harabasz_score(X, labels)),\n",
        "        'Davies-Bouldin': round(davies_bouldin_score(X, labels), 2)\n",
        "    }"
      ],
      "metadata": {
        "id": "vjeVlOOyQQu5"
      },
      "execution_count": 15,
      "outputs": []
    },
    {
      "cell_type": "code",
      "source": [
        "## 5. Run Clustering\n",
        "\n",
        "def run_all_clustering(X, name):\n",
        "    results = []\n",
        "\n",
        "    # KMeans\n",
        "    for k in [3, 4, 5]:\n",
        "        model = KMeans(n_clusters=k, random_state=42).fit(X)\n",
        "        res = evaluate_clustering(X, model.labels_)\n",
        "        results.append(['KMeans', name, f'c={k}'] + list(res.values()))\n",
        "\n",
        "    # Hierarchical\n",
        "    for k in [3, 4, 5]:\n",
        "        model = AgglomerativeClustering(n_clusters=k).fit(X)\n",
        "        res = evaluate_clustering(X, model.labels_)\n",
        "        results.append(['Hierarchical', name, f'c={k}'] + list(res.values()))\n",
        "\n",
        "    # Mean Shift (auto bandwidth)\n",
        "    try:\n",
        "        ms = MeanShift(bandwidth=estimate_bandwidth(X, quantile=0.2)).fit(X)\n",
        "        res = evaluate_clustering(X, ms.labels_)\n",
        "        results.append(['MeanShift', name, f'c={len(np.unique(ms.labels_))}'] + list(res.values()))\n",
        "    except:\n",
        "        results.append(['MeanShift', name, 'c=NA', 'NA', 'NA', 'NA'])\n",
        "\n",
        "    return results"
      ],
      "metadata": {
        "id": "ji-bwq0JQTl6"
      },
      "execution_count": 16,
      "outputs": []
    },
    {
      "cell_type": "code",
      "source": [
        "## 6. All Variants of Data\n",
        "\n",
        "variants = {\n",
        "    'No Processing': X,\n",
        "    'Normalized': normalize(X),\n",
        "    'Transformed': standardize(X),\n",
        "    'PCA': apply_pca(X),\n",
        "    'T+N': transform_and_normalize(X),\n",
        "    'T+N+PCA': transform_norm_pca(X)\n",
        "}\n",
        "\n",
        "all_results = []\n",
        "\n",
        "for name, data_variant in variants.items():\n",
        "    res = run_all_clustering(data_variant, name)\n",
        "    all_results.extend(res)"
      ],
      "metadata": {
        "id": "McCpgL7sQXQ5"
      },
      "execution_count": 11,
      "outputs": []
    },
    {
      "cell_type": "code",
      "source": [
        "## 7. Results DataFrame\n",
        "\n",
        "results_df = pd.DataFrame(all_results, columns=['Method', 'Preprocessing', 'Clusters', 'Silhouette', 'Calinski-Harabasz', 'Davies-Bouldin'])\n",
        "\n",
        "# Display\n",
        "print(results_df)"
      ],
      "metadata": {
        "colab": {
          "base_uri": "https://localhost:8080/"
        },
        "id": "xN7QgPJwQcat",
        "outputId": "6a5dfc4b-d437-4f70-d539-d0a5860dea33"
      },
      "execution_count": 17,
      "outputs": [
        {
          "output_type": "stream",
          "name": "stdout",
          "text": [
            "          Method  Preprocessing Clusters Silhouette Calinski-Harabasz  \\\n",
            "0         KMeans  No Processing      c=3       0.15               117   \n",
            "1         KMeans  No Processing      c=4       0.13                96   \n",
            "2         KMeans  No Processing      c=5       0.15                87   \n",
            "3   Hierarchical  No Processing      c=3       0.12                95   \n",
            "4   Hierarchical  No Processing      c=4       0.11                79   \n",
            "5   Hierarchical  No Processing      c=5        0.1                71   \n",
            "6      MeanShift  No Processing     c=NA         NA                NA   \n",
            "7         KMeans     Normalized      c=3       0.31               262   \n",
            "8         KMeans     Normalized      c=4       0.29               189   \n",
            "9         KMeans     Normalized      c=5       0.28               150   \n",
            "10  Hierarchical     Normalized      c=3       0.32               276   \n",
            "11  Hierarchical     Normalized      c=4       0.21               227   \n",
            "12  Hierarchical     Normalized      c=5       0.15               184   \n",
            "13     MeanShift     Normalized      c=2       0.44               411   \n",
            "14        KMeans    Transformed      c=3       0.15               117   \n",
            "15        KMeans    Transformed      c=4       0.13                96   \n",
            "16        KMeans    Transformed      c=5       0.15                87   \n",
            "17  Hierarchical    Transformed      c=3       0.12                95   \n",
            "18  Hierarchical    Transformed      c=4       0.11                79   \n",
            "19  Hierarchical    Transformed      c=5        0.1                71   \n",
            "20     MeanShift    Transformed     c=NA         NA                NA   \n",
            "21        KMeans            PCA      c=3       0.33               363   \n",
            "22        KMeans            PCA      c=4       0.34               343   \n",
            "23        KMeans            PCA      c=5       0.34               349   \n",
            "24  Hierarchical            PCA      c=3       0.32               323   \n",
            "25  Hierarchical            PCA      c=4       0.33               294   \n",
            "26  Hierarchical            PCA      c=5        0.3               301   \n",
            "27     MeanShift            PCA     c=NA         NA                NA   \n",
            "28        KMeans            T+N      c=3       0.31               262   \n",
            "29        KMeans            T+N      c=4       0.29               189   \n",
            "30        KMeans            T+N      c=5       0.28               150   \n",
            "31  Hierarchical            T+N      c=3       0.32               276   \n",
            "32  Hierarchical            T+N      c=4       0.21               227   \n",
            "33  Hierarchical            T+N      c=5       0.15               184   \n",
            "34     MeanShift            T+N      c=2       0.44               411   \n",
            "35        KMeans        T+N+PCA      c=3       0.61               958   \n",
            "36        KMeans        T+N+PCA      c=4       0.57              1328   \n",
            "37        KMeans        T+N+PCA      c=5       0.55              1285   \n",
            "38  Hierarchical        T+N+PCA      c=3       0.61               957   \n",
            "39  Hierarchical        T+N+PCA      c=4       0.57              1309   \n",
            "40  Hierarchical        T+N+PCA      c=5       0.53              1319   \n",
            "41     MeanShift        T+N+PCA      c=2       0.66              1006   \n",
            "\n",
            "   Davies-Bouldin  \n",
            "0            1.99  \n",
            "1            2.02  \n",
            "2            1.86  \n",
            "3            2.13  \n",
            "4            2.09  \n",
            "5             2.1  \n",
            "6              NA  \n",
            "7            1.39  \n",
            "8            1.62  \n",
            "9            1.53  \n",
            "10           1.36  \n",
            "11           1.66  \n",
            "12           1.85  \n",
            "13           0.98  \n",
            "14           1.99  \n",
            "15           2.02  \n",
            "16           1.86  \n",
            "17           2.13  \n",
            "18           2.09  \n",
            "19            2.1  \n",
            "20             NA  \n",
            "21           1.03  \n",
            "22            0.9  \n",
            "23           0.94  \n",
            "24            1.1  \n",
            "25           0.91  \n",
            "26           1.04  \n",
            "27             NA  \n",
            "28           1.39  \n",
            "29           1.62  \n",
            "30           1.53  \n",
            "31           1.36  \n",
            "32           1.66  \n",
            "33           1.85  \n",
            "34           0.98  \n",
            "35           0.52  \n",
            "36           0.58  \n",
            "37           0.57  \n",
            "38           0.51  \n",
            "39           0.58  \n",
            "40           0.58  \n",
            "41           0.54  \n"
          ]
        }
      ]
    },
    {
      "cell_type": "code",
      "source": [
        "## 8. Visualization\n",
        "\n",
        "plt.figure(figsize=(12,6))\n",
        "sns.barplot(data=results_df[results_df['Method'] == 'KMeans'], x='Clusters', y='Silhouette', hue='Preprocessing')\n",
        "plt.title('KMeans Clustering - Silhouette Scores')\n",
        "plt.legend(bbox_to_anchor=(1.05, 1), loc='upper left')\n",
        "plt.show()"
      ],
      "metadata": {
        "colab": {
          "base_uri": "https://localhost:8080/",
          "height": 564
        },
        "id": "qVMBO2mHQepu",
        "outputId": "f1035a07-605d-4d61-9827-90e9feb2f8ff"
      },
      "execution_count": 18,
      "outputs": [
        {
          "output_type": "display_data",
          "data": {
            "text/plain": [
              "<Figure size 1200x600 with 1 Axes>"
            ],
            "image/png": "[encoded data removed]"
          },
          "metadata": {}
        }
      ]
    }
  ]
}